{
 "cells": [
  {
   "cell_type": "markdown",
   "metadata": {},
   "source": [
    "# COVID-19 Global Data Tracker\n",
    "\n",
    "This notebook analyzes global COVID-19 trends including cases, deaths, recoveries, and vaccinations across countries and time.\n",
    "\n",
    "## 1. Data Collection\n",
    "We use the Our World in Data COVID-19 dataset for our analysis.\n",
    "\n",
    "## 2. Data Loading & Exploration\n"
   ]
  },
  {
   "cell_type": "code",
   "execution_count": null,
   "metadata": {},
   "source": [
    "import pandas as pd\n",
    "import numpy as np\n",
    "import matplotlib.pyplot as plt\n",
    "\n",
    "# Load the dataset\n",
    "df = pd.read_csv('data/owid-covid-data.csv')\n",
    "\n",
    "# Display basic information about the dataset\n",
    "print(\"Dataset Info:\")\n",
    "print(df.info())\n",
    "\n",
    "# Display first few rows\n",
    "print(\"\\nFirst few rows:\")\n",
    "print(df.head())\n",
    "\n",
    "# Check for missing values\n",
    "print(\"\\nMissing values:\")\n",
    "print(df.isnull().sum())"
   ]
  },
  {
   "cell_type": "markdown",
   "metadata": {},
   "source": [
    "## 3. Data Cleaning\n",
    "\n",
    "We'll clean the data by:\n",
    "1. Converting date column to datetime\n",
    "2. Handling missing values\n",
    "3. Filtering countries of interest"
   ]
  },
  {
   "cell_type": "code",
   "execution_count": null,
   "metadata": {},
   "source": [
    "# Convert date to datetime\n",
    "df['date'] = pd.to_datetime(df['date'])\n",
    "\n",
    "# Select countries of interest\n",
    "countries = ['Kenya', 'United States', 'India', 'United Kingdom', 'South Africa']\n",
    "df_selected = df[df['location'].isin(countries)]\n",
    "\n",
    "# Handle missing values in critical columns\n",
    "critical_columns = ['total_cases', 'total_deaths', 'new_cases', 'new_deaths']\n",
    "df_selected[critical_columns] = df_selected[critical_columns].fillna(0)"
   ]
  },
  {
   "cell_type": "markdown",
   "metadata": {},
   "source": [
    "## 4. Exploratory Data Analysis (EDA)\n",
    "\n",
    "We'll analyze:\n",
    "1. Total cases over time\n",
    "2. Total deaths over time\n",
    "3. Daily new cases\n",
    "4. Death rates"
   ]
  },
  {
   "cell_type": "code",
   "execution_count": null,
   "metadata": {},
   "source": [
    "# Function to plot metrics over time\n",
    "def plot_metric_over_time(data, metric, title):\n",
    "    plt.figure(figsize=(12, 6))\n",
    "    for country in countries:\n",
    "        country_data = data[data['location'] == country]\n",
    "        plt.plot(country_data['date'], country_data[metric], label=country)\n",
    "    \n",
    "    plt.title(title)\n",
    "    plt.xlabel('Date')\n",
    "    plt.ylabel(metric.replace('_', ' ').title())\n",
    "    plt.legend()\n",
    "    plt.xticks(rotation=45)\n",
    "    plt.grid(True)\n",
    "    plt.tight_layout()\n",
    "\n",
    "# Plot total cases\n",
    "plot_metric_over_time(df_selected, 'total_cases', 'Total COVID-19 Cases Over Time')\n",
    "\n",
    "# Plot total deaths\n",
    "plot_metric_over_time(df_selected, 'total_deaths', 'Total COVID-19 Deaths Over Time')\n",
    "\n",
    "# Calculate and plot death rates\n",
    "df_selected['death_rate'] = (df_selected['total_deaths'] / df_selected['total_cases']) * 100\n",
    "plot_metric_over_time(df_selected, 'death_rate', 'COVID-19 Death Rate Over Time (%)')"
   ]
  },
  {
   "cell_type": "markdown",
   "metadata": {},
   "source": [
    "## 5. Vaccination Progress Analysis"
   ]
  },
  {
   "cell_type": "code",
   "execution_count": null,
   "metadata": {},
   "source": [
    "# Plot vaccination progress\n",
    "plot_metric_over_time(df_selected, 'total_vaccinations', 'Total Vaccinations Over Time')\n",
    "\n",
    "# Plot percentage of population vaccinated\n",
    "plot_metric_over_time(df_selected, 'people_fully_vaccinated_per_hundred', 'Percentage of Population Fully Vaccinated')"
   ]
  },
  {
   "cell_type": "markdown",
   "metadata": {},
   "source": [
    "## 6. Key Insights & Findings\n",
    "\n",
    "1. Case Trends:\n",
    "   - [Will be filled based on actual data analysis]\n",
    "\n",
    "2. Death Rates:\n",
    "   - [Will be filled based on actual data analysis]\n",
    "\n",
    "3. Vaccination Progress:\n",
    "   - [Will be filled based on actual data analysis]\n",
    "\n",
    "4. Country Comparisons:\n",
    "   - [Will be filled based on actual data analysis]\n",
    "\n",
    "5. Notable Patterns:\n",
    "   - [Will be filled based on actual data analysis]"
   ]
  }
 ],
 "metadata": {
  "kernelspec": {
   "display_name": "Python 3",
   "language": "python",
   "name": "python3"
  },
  "language_info": {
   "codemirror_mode": {
    "name": "ipython",
    "version": 3
   },
   "file_extension": ".py",
   "mimetype": "text/x-python",
   "name": "python",
   "nbconvert_exporter": "python",
   "pygments_lexer": "ipython3",
   "version": "3.8.0"
  }
 },
 "nbformat": 4,
 "nbformat_minor": 4
}
