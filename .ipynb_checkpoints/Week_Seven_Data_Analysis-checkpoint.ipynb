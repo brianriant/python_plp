{
 "cells": [
  {
   "cell_type": "code",
   "execution_count": null,
   "metadata": {},
   "outputs": [],
   "source": [
    "# Import necessary libraries\n",
    "import pandas as pd\n",
    "import matplotlib.pyplot as plt\n",
    "import seaborn as sns\n",
    "\n",
    "import kagglehub\n",
    "\n",
    "# Download latest version\n",
    "path = kagglehub.dataset_download(\"arshid/iris-flower-dataset\")\n"
   ]
  },
  {
   "cell_type": "code",
   "execution_count": null,
   "metadata": {},
   "outputs": [],
   "source": [
    "# Task 1: Load and Explore the Dataset\n",
    "try:\n",
    "    # Load the dataset\n",
    "    dataset_path = path\n",
    "    data = pd.read_csv(dataset_path)\n",
    "    \n",
    "    # Display the first few rows\n",
    "    print(\"First few rows of the dataset:\")\n",
    "    print(data.head())\n",
    "    \n",
    "    # Check data types and missing values\n",
    "    print(\"\\nDataset Info:\")\n",
    "    print(data.info())\n",
    "    print(\"\\nMissing Values:\")\n",
    "    print(data.isnull().sum())\n",
    "    \n",
    "    # Clean the dataset (drop rows with missing values)\n",
    "    data = data.dropna()\n",
    "    print(\"\\nDataset after cleaning:\")\n",
    "    print(data.info())\n",
    "except FileNotFoundError:\n",
    "    print(\"Error: Dataset file not found. Please check the file path.\")"
   ]
  },
  {
   "cell_type": "code",
   "execution_count": null,
   "metadata": {},
   "outputs": [],
   "source": [
    "# Task 2: Basic Data Analysis\n",
    "try:\n",
    "    # Compute basic statistics\n",
    "    print(\"\\nBasic Statistics:\")\n",
    "    print(data.describe())\n",
    "    \n",
    "    # Group by a categorical column and compute mean of a numerical column\n",
    "    if 'species' in data.columns and 'sepal_length' in data.columns:\n",
    "        grouped_data = data.groupby('species')['sepal_length'].mean()\n",
    "        print(\"\\nMean Sepal Length by Species:\")\n",
    "        print(grouped_data)\n",
    "    else:\n",
    "        print(\"\\nRequired columns for grouping not found.\")\n",
    "except Exception as e:\n",
    "    print(f\"An error occurred during analysis: {e}\")"
   ]
  },
  {
   "cell_type": "code",
   "execution_count": null,
   "metadata": {},
   "outputs": [],
   "source": [
    "# Task 3: Data Visualization\n",
    "try:\n",
    "    # Line chart (example: trends over time, replace with appropriate columns if available)\n",
    "    if 'sepal_length' in data.columns:\n",
    "        plt.figure(figsize=(8, 5))\n",
    "        plt.plot(data.index, data['sepal_length'], label='Sepal Length')\n",
    "        plt.title('Line Chart of Sepal Length')\n",
    "        plt.xlabel('Index')\n",
    "        plt.ylabel('Sepal Length')\n",
    "        plt.legend()\n",
    "        plt.show()\n",
    "    \n",
    "    # Bar chart (example: average sepal length per species)\n",
    "    if 'species' in data.columns and 'sepal_length' in data.columns:\n",
    "        grouped_data.plot(kind='bar', figsize=(8, 5), color='skyblue')\n",
    "        plt.title('Average Sepal Length by Species')\n",
    "        plt.xlabel('Species')\n",
    "        plt.ylabel('Average Sepal Length')\n",
    "        plt.show()\n",
    "    \n",
    "    # Histogram (example: distribution of sepal length)\n",
    "    if 'sepal_length' in data.columns:\n",
    "        plt.figure(figsize=(8, 5))\n",
    "        plt.hist(data['sepal_length'], bins=10, color='lightgreen', edgecolor='black')\n",
    "        plt.title('Histogram of Sepal Length')\n",
    "        plt.xlabel('Sepal Length')\n",
    "        plt.ylabel('Frequency')\n",
    "        plt.show()\n",
    "    \n",
    "    # Scatter plot (example: sepal length vs. petal length)\n",
    "    if 'sepal_length' in data.columns and 'petal_length' in data.columns:\n",
    "        plt.figure(figsize=(8, 5))\n",
    "        plt.scatter(data['sepal_length'], data['petal_length'], color='purple', alpha=0.7)\n",
    "        plt.title('Scatter Plot of Sepal Length vs. Petal Length')\n",
    "        plt.xlabel('Sepal Length')\n",
    "        plt.ylabel('Petal Length')\n",
    "        plt.show()\n",
    "except Exception as e:\n",
    "    print(f\"An error occurred during visualization: {e}\")"
   ]
  }
 ],
 "metadata": {
  "language_info": {
   "name": "python"
  }
 },
 "nbformat": 4,
 "nbformat_minor": 2
}
